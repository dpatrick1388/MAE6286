{
 "cells": [
  {
   "cell_type": "code",
   "execution_count": 3,
   "metadata": {},
   "outputs": [],
   "source": [
    "import numpy\n",
    "from matplotlib import pyplot\n",
    "%matplotlib inline"
   ]
  },
  {
   "cell_type": "code",
   "execution_count": 4,
   "metadata": {},
   "outputs": [],
   "source": [
    "pyplot.rcParams['font.family'] = 'serif'\n",
    "pyplot.rcParams['font.size'] = 16"
   ]
  },
  {
   "cell_type": "code",
   "execution_count": 6,
   "metadata": {},
   "outputs": [],
   "source": [
    "def rho_red_light(x, rho_max):\n",
    "    rho = rho_max * numpy.ones_like(x)\n",
    "    mask = numpy.where(x < 3.0)\n",
    "    rho[mask] = 0.5 * rho_max\n",
    "    return rho"
   ]
  },
  {
   "cell_type": "code",
   "execution_count": 7,
   "metadata": {},
   "outputs": [],
   "source": [
    "nx = 81\n",
    "L = 4.0\n",
    "dx = L / (nx-1)\n",
    "nt = 40\n",
    "rho_max = 10.0\n",
    "u_max = 1.0\n",
    "\n",
    "x = numpy.linspace(0.0, L, num=nx)\n",
    "\n",
    "rho0 = rho_red_light(x, rho_max)\n"
   ]
  },
  {
   "cell_type": "code",
   "execution_count": 8,
   "metadata": {},
   "outputs": [
    {
     "data": {
      "image/png": "[encoded data removed]",
      "text/plain": [
       "<Figure size 432x288 with 1 Axes>"
      ]
     },
     "metadata": {},
     "output_type": "display_data"
    }
   ],
   "source": [
    "fig = pyplot.figure(figsize=(6.0, 4.0))\n",
    "pyplot.xlabel(r'$x$')\n",
    "pyplot.ylabel(r'$\\rho$')\n",
    "pyplot.grid()\n",
    "line = pyplot.plot(x, rho0,\n",
    "                   color='C0', linestyle='-', linewidth=2)[0]\n",
    "pyplot.xlim(0.0, L)\n",
    "pyplot.ylim(4.0, 11.0)\n",
    "pyplot.tight_layout()"
   ]
  },
  {
   "cell_type": "code",
   "execution_count": 9,
   "metadata": {},
   "outputs": [],
   "source": [
    "def flux(rho, u_max, rho_max):\n",
    "    F = rho * u_max * (1.0 - rho/rho_max)\n",
    "    return F"
   ]
  },
  {
   "cell_type": "code",
   "execution_count": 10,
   "metadata": {},
   "outputs": [],
   "source": [
    "def lax_friedrichs(rho0, nt, dt, dx, bc_values, *args):\n",
    "    rho_hist = [rho0.copy()]\n",
    "    rho = rho0.copy()\n",
    "    for n in range(nt):\n",
    "        F = flux(rho, *args)\n",
    "        rho[1:-1] = (0.5 * (rho[:-2] + rho[2:]) - dt / (2.0 * dx) * (F[2:] - F[:-2]))\n",
    "        rho[0] = bc_values[0]\n",
    "        rho[-1] = bc_values[1]\n",
    "        rho_hist.append(rho.copy())\n",
    "    return rho_hist"
   ]
  },
  {
   "cell_type": "code",
   "execution_count": 14,
   "metadata": {},
   "outputs": [],
   "source": [
    "sigma = 1.0\n",
    "dt = sigma * dx / u_max\n",
    "rho_hist = lax_friedrichs(rho0, nt, dt, dx, (rho0[0], rho0[-1]), u_max, rho_max)\n",
    "\n"
   ]
  },
  {
   "cell_type": "code",
   "execution_count": 15,
   "metadata": {},
   "outputs": [],
   "source": [
    "def jacobian(rho, u_max, rho_max):\n",
    "    j = u_max * (1.0 - 2.0 * rho/rho_max)\n",
    "    return J"
   ]
  },
  {
   "cell_type": "code",
   "execution_count": 21,
   "metadata": {},
   "outputs": [],
   "source": [
    "def lax_wendroff(rho0, nt, dt, dx, bc_values, *args):\n",
    "    rho_hist = [rho0.copy()]\n",
    "    rho = rho0.copy()\n",
    "    for n in range(nt):\n",
    "        F = flux(rho, *args)\n",
    "        J = jacobian(rho, *args)\n",
    "        rho[1:-1] = (rho[1:-1] - \n",
    "                     dt / (2.0 * dx) * (F[2:] - F[:-2]) +\n",
    "                     dt**2 / (4.0 * dx**2) *\n",
    "                     ((J[1:-1] + J[2:]) * (F[2:] - F[1:-1]) -\n",
    "                     (J[:-2] + J[1:-1]) * (F[1:-1] - F[:-2])))\n",
    "        rho[0] = bc_values[0]\n",
    "        rho[-1] = bc_values[1]\n",
    "        rho_his.append(rho.copy())\n",
    "    return rho_hist"
   ]
  },
  {
   "cell_type": "code",
   "execution_count": 26,
   "metadata": {},
   "outputs": [
    {
     "data": {
      "application/vnd.jupyter.widget-view+json": {
       "model_id": "0c7d26dfe2f5425b8cf01f1816e909fb",
       "version_major": 2,
       "version_minor": 0
      },
      "text/plain": [
       "interactive(children=(IntSlider(value=0, description='time step', max=40), Output()), _dom_classes=('widget-in…"
      ]
     },
     "metadata": {},
     "output_type": "display_data"
    },
    {
     "data": {
      "image/png": "[encoded data removed]",
      "text/plain": [
       "<Figure size 576x288 with 1 Axes>"
      ]
     },
     "metadata": {},
     "output_type": "display_data"
    }
   ],
   "source": [
    "sigma = 1.0\n",
    "dt = sigma * dx / u_max\n",
    "rho_hist = lax_wendroff\n",
    "\n"
   ]
  },
  {
   "cell_type": "code",
   "execution_count": 22,
   "metadata": {},
   "outputs": [],
   "source": [
    "def maccormack(rho0, nt, dt, dx, bc_values, *args):\n",
    " \n",
    "    rho_hist = [rho0.copy()]\n",
    "    rho = rho0.copy()\n",
    "    rho_star = rho.copy()\n",
    "    for n in range(nt):\n",
    "        \n",
    "        F = flux(rho, *args)\n",
    "        \n",
    "        rho_star[1:-1] = (rho[1:-1] -\n",
    "                          dt / dx * (F[2:] - F[1:-1]))\n",
    "        \n",
    "        F = flux(rho_star, *args)\n",
    "        \n",
    "        rho[1:-1] = 0.5 * (rho[1:-1] + rho_star[1:-1] -\n",
    "                           dt / dx * (F[1:-1] - F[:-2]))\n",
    "        \n",
    "        rho[0] = bc_values[0]\n",
    "        \n",
    "        rho[-1] = bc_values[1]\n",
    "        \n",
    "        rho_hist.append(rho.copy())\n",
    "    return rho_hist"
   ]
  },
  {
   "cell_type": "code",
   "execution_count": 27,
   "metadata": {},
   "outputs": [
    {
     "data": {
      "application/vnd.jupyter.widget-view+json": {
       "model_id": "dd5e2940244d47b1a81590ac4762fae2",
       "version_major": 2,
       "version_minor": 0
      },
      "text/plain": [
       "interactive(children=(IntSlider(value=0, description='time step', max=40), Output()), _dom_classes=('widget-in…"
      ]
     },
     "metadata": {},
     "output_type": "display_data"
    }
   ],
   "source": [
    "\n",
    "sigma = 0.1\n",
    "dt = sigma * dx / u_max \n",
    "\n",
    "\n",
    "rho_hist = maccormack(rho0, nt, dt, dx, (rho0[0], rho0[-1]),\n",
    "                      u_max, rho_max)\n",
    "\n",
    "# create a function to plot your solution\n",
    "import ipywidgets\n",
    "def plot_density(n, rho_hist):\n",
    "   pyplot.figure(figsize=(8.0,4.0))\n",
    "   pyplot.xlabel('Distance [km]')\n",
    "   pyplot.ylabel('Density [cars / km]')\n",
    "   pyplot.grid()\n",
    "   pyplot.plot(x, rho_hist[0], label='Initial')\n",
    "   pyplot.plot(x, rho_hist[n], label='Time step {}'.format(n))\n",
    "   pyplot.ylim(rho_hist[0].min() - 1.0, rho_hist[0].max() + 1.0)\n",
    "   pyplot.legend()\n",
    "\n",
    "# create a ipywidgets slider for the time levels\n",
    "nt_slider = ipywidgets.IntSlider(value=0, min=0, max=nt, step=1,\n",
    "                                description='time step')\n",
    "\n",
    "# create the ipywidgets interactive figure\n",
    "w = ipywidgets.interactive(plot_density,\n",
    "                              n=nt_slider,\n",
    "                              rho_hist=ipywidgets.fixed(rho_hist))\n",
    "\n",
    "# display the interactive figure\n",
    "display(w)"
   ]
  },
  {
   "cell_type": "code",
   "execution_count": null,
   "metadata": {},
   "outputs": [],
   "source": []
  }
 ],
 "metadata": {
  "kernelspec": {
   "display_name": "Python 3",
   "language": "python",
   "name": "python3"
  },
  "language_info": {
   "codemirror_mode": {
    "name": "ipython",
    "version": 3
   },
   "file_extension": ".py",
   "mimetype": "text/x-python",
   "name": "python",
   "nbconvert_exporter": "python",
   "pygments_lexer": "ipython3",
   "version": "3.6.2"
  }
 },
 "nbformat": 4,
 "nbformat_minor": 2
}
